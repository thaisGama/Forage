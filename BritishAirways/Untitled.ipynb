{
 "cells": [
  {
   "cell_type": "markdown",
   "metadata": {},
   "source": [
    "# British Airways\n",
    "- Web scraping to gain company insights: This first task is focused on scraping and collecting customer feedback and reviewing data from a third-party source and analysing this data to present any insights you may uncover.\n",
    "- Scrape data from the web: The first thing to do will be to scrape review data from the web. For this, you should use a website called __Skytrax__. The team leader wants you to focus on __reviews specifically about the airline itself__. You should collect as much data as you can in order to improve the output of your analysis. "
   ]
  },
  {
   "cell_type": "code",
   "execution_count": 1,
   "metadata": {
    "ExecuteTime": {
     "end_time": "2023-01-14T15:54:06.332810Z",
     "start_time": "2023-01-14T15:54:03.042533Z"
    }
   },
   "outputs": [],
   "source": [
    "from bs4 import BeautifulSoup\n",
    "import requests\n",
    "import pandas as pd\n",
    "\n",
    "import matplotlib.pyplot as plt\n",
    "plt.style.use('ggplot')\n",
    "%matplotlib inline"
   ]
  },
  {
   "cell_type": "markdown",
   "metadata": {},
   "source": [
    "## retrieve data from the web"
   ]
  },
  {
   "cell_type": "code",
   "execution_count": 2,
   "metadata": {
    "ExecuteTime": {
     "end_time": "2023-01-14T09:48:14.218417Z",
     "start_time": "2023-01-14T09:48:14.204920Z"
    }
   },
   "outputs": [],
   "source": [
    "def extract_table_info(article):\n",
    "    \"\"\"\n",
    "    Extract info from rating table into a dict, where keys are categories\n",
    "    and values is the rating for that category\n",
    "    \"\"\"\n",
    "    table = article.find('table')\n",
    "    table_dict = {}\n",
    "    for row in table.find_all('tr'):\n",
    "        star_fills = row.find_all('span', class_=\"star fill\")\n",
    "        star_fills_lst = [int(star_fill.text) for star_fill in star_fills] # list of nrs. indicating filled stars\n",
    "        if len(star_fills_lst) == 0:\n",
    "            table_dict[row.find_all('td')[0].text] = row.find_all('td')[1].text\n",
    "        if len(star_fills_lst) > 0:\n",
    "            review_rating = max(star_fills_lst)\n",
    "            table_dict[row.td.text + '_rating'] = review_rating\n",
    "    return table_dict    "
   ]
  },
  {
   "cell_type": "code",
   "execution_count": 3,
   "metadata": {
    "ExecuteTime": {
     "end_time": "2023-01-14T09:48:15.409116Z",
     "start_time": "2023-01-14T09:48:14.221827Z"
    }
   },
   "outputs": [
    {
     "name": "stdout",
     "output_type": "stream",
     "text": [
      "nr. of retrieved reviews\n",
      "---->> 2\n",
      "nr. of retrieved reviews\n",
      "---->> 4\n",
      "nr. of retrieved reviews\n",
      "---->> 6\n",
      "nr. of retrieved reviews\n",
      "---->> 8\n",
      "nr. of retrieved reviews\n",
      "---->> 10\n",
      "['\"This flight was so disappointing\"', '\"just an average airline\"', '\"Luggage is delayed\" ', '\"the worst business class experience I\\'ve ever had\"', '\"not recommended for business class\"', '\"surprisingly a good product\"', '\"Maybe the old charm will return soon\"', '\"having to pay to reserve a specific seat\"', '\"Upgrade was worth it\"', '\"Disappointing meal\"'] \n",
      "\n",
      "['✅ Trip Verified |  Flew ATL to LHR 8th Jan 2023. Was unlucky enough to be on board a 23 year old 777. Refit gave it a decent IFE screen and the seat looked decent. Although combine the IFE with the cheap and nasty earbuds, and any movie can be ruined. Headrest was great, just a pity little padding is used on the seat as my Wife and I were very uncomfortable. The leg room in general is poor, especially when passengers keep their seat reclined from start to finish. Zero room. Aircraft was tired. Rubber spacers falling out, silicone sealer falling apart in the toilets. Toilet seats old, stained. Rubber on arm rest was hanging off. No post take off drinks/snacks offered.  Meal was sent out after a couple of hours. Was poor. Chicken cubes that reminded me of dog food, mashed potatoes that were purified within an inch of their life. Stale rock hard roll, salad which was rice and carrots?! Dried crackers with no cheese. Kids meal was just as sad. Tiny leaf salad with enough dressing to refloat a shipwreck. Coffee creamer was given with the kids meal? Snack was decent for the adults, bagel with cheese and egg. Hot and tasty. Kids snack was a green wrap with spinach and onions in it.  Very very poor. Mix the food, BA service with a grunt, being crammed into a seat for 7 hours, landing at a remote stand and enduring a bus to the terminal and BA in my opinion, is terrible. This flight was so disappointing. Other than one great member of cabin crew, everything else was just average.', 'Not Verified |  Great thing about British Airways A380 is the economy section upstairs. Get this if you can as it allows you to have small stowage cupboards at the window seats. Despite being not very old, the A380 looked tired inside. Broken side stowage, a seat that reclined uncontrollably and slow to react IFE. The food was supposed to be Christmas dinner. 3 wafer thin bits of dry turkey, 4 over cooked sprouts and some cubed potatoes. Poor in taste and quality. Mousse desert was great though. Slight issue during the snack meal. Ordered a childs option which was marked as such. Regular meal arrived as well and they were exactly the same. Asked a crew member to be told the difference was the sticker on the box. Staff were ok. Couple decent but mostly just ok. Overall, BA just seems a tad cheap these days. Great to sit upstairs but that was where the enjoyment ended. Just seemed a bit dull and like BA are just an average airline.\\r\\n', 'Not Verified | The staff are friendly. The plane was cold, we were shivering, they gave light blankets but they were not enough. Meals were basic. Entertainment was basic. Luggage is delayed, today is day 6 and BA staff over the phone say \"call after 72 hours\". Tracking system is very vague, had to extract information from staff that they arrived to Vancouver on Jan 2nd. I offered to collect baggage but very vague answer \"call the Airport\", asked her for BA phone number at YVR but she said \"we don\\'t have a phone number for you to call, call the main Airport\". Their policy states you can make a claim only after 21 days.', '✅ Trip Verified | Probably the worst business class experience I\\'ve ever had on an airline. Just a few of the issues: Required to purchase seats on international (Club World) business class. This was not made known during the ticket purchase process and cost me an additional $600 on a single leg (LHR-LAX) for a family of four. Given the very strange business class seating layout on BA A380s, leaving the seat selection to change could have been disastrous for my family. Ridiculously long boarding times on even small aircraft. On my VIE-LHR leg, the boarding time for the A320 was over 50 minutes long, leading to a delayed departure. There was no urgency on the part of staff to speed up the boarding times. Severe overcrowding in the boarding area in satellite C of terminal 5 at Heathrow. Boarding staff would not allow passengers to enter the roped off queue area before boarding (I have no idea why not) and so crowding was extreme. The overall boarding area was far too small for an A380, and I believe this satellite was designed and built after the first A380s were delivered. Online check-in in advance of flights appears to be completely broken. I was urged repeatedly (on the BA website, and via email and text) to \"upload my COVID documents\" even though, at the end of 2022, there are no COVID documents required for travel. After I filled in basic contact information on the website - and did not upload any \"COVID documentation\" - I was informed (several hours later) that my \"COVID documents have been verified\". I then received another text message urging me to \"upload my COVID documentation\". On the VIE-LHR leg, the shop.ba.com page that one is directed to after attempting to connect to wifi on the plane indicated ridiculously incorrect remaining flight times - over six hours, and then four hours just before landing. BA lounges for Club Europe and Club World at Heathrow are often seriously overcrowded. Furniture and carpeting and other finishes in the clubs are worn or dirty. That said, the food in the lounges was of pretty good quality. The food quality in BA lounges at Heathrow may be the only redeeming thing about this airline. Onboard, food and beverage service was far below average for international business class. Terrible, one might say. On the LHR-LAX leg, there was no pre-meal beverage service and there were NO mid-flight beverage services at all. Unlike most business class offerings on other airlines, there was no taking a meal order by flight attendants at the beginning of the flight. Meals were brought out haphazardly shortly after take off, with the \"chicken or fish?\" type of meal selection similar to economy class. There was no coffee or tea service after meals. Food quality was poor, with the pre-landing snack of a \"ploughman\\'s lunch\" being downright disgusting. . There was no beverage or bar set-up in the galley areas - beverages available to passengers during the flight - as is standard on most international business class offerings. Even bottles of water seemed be hidden away, requiring one to ask the flight attendants for water. I won\\'t comment on the bizarre seating layout on the A380, as others have rightly panned the awkwardness and extremely poor design of the seating. The seats are not 6\\' 2\" long as stated on the BA website, and I found the seats too short for my 6\\' 2\" height. The \"Priority\" luggage tags were not followed in the baggage delivery.', '✅ Trip Verified | Definitely not recommended, especially for business class. The seats are ridiculous and small, the food is mediocre if that, and good luck with the internet even if you pay for full internet for the entire flight. The service however has been great. My attendant saved me from crying. I don’t know who designed this aircraft but in this expensive business class, in order to move out of you middle seat to go to the bathroom you must rudely climb over the person’s legs sitting in the aisle seat. Your seat is like an enclosed tiny cubicle with no storage space. I’ve unfortunately traveled British Airways business class at least 4 times within the last 4 months. Never again unless there is no other choice. By the way, the business class lounge south at Heathrow is a cattle pen.', '✅ Trip Verified |  BA shuttle service across the UK is still surprisingly a good product. When compared with BA long haul that doesn’t always get the best of comments at times. It’s reasonable priced, works well, fresh crews and no queues or long distances to walk. I don’t know why they still offer a COVID style bottle of water and snack when just stretching to a cup of tea and snack would be great add on for this service. Currently they have an on line sky cafe but it’s too fiddly to work or get connected in short trips.', '✅ Trip Verified | I must admit like many others I tend to avoid BA long haul where possible due to the many poor reviews. But had my first ride on a BA A380 the other day so it was an exception. What can I say. Aircraft immaculate and economy seat really comfortable but that’s about it. IFE didn’t work but wasn’t that interesting anyway. I got the map screenshot for a while. Lunch was poor quality but plenty of nice white wine and other alcoholic drinks made up for it. Cabin crew pleasant but poor grooming lets them down. Some skirts, some trouser suits, some long sleeves some short. Some jackets some waistcoat. Some cardigans on at time and all in all they could have done better I think. Baggage delivery was really quick. Summing up well I am still not coming back to BA not yet. Maybe the old charm will return soon.', 'Not Verified |  When will BA update their Business class cabin - 8 across on a 777. It is not so much travelling facing backwards as it were, but the cabin staff having to pass food trays across the front of passengers paying business class fares! As for having to pay to reserve a specific seat - an antiquated idea. The cabin staff were fine, food acceptable, check-in OK and Business lounge (breakfast) acceptable. The lack of space in the seating area, small screen and disfunctional entertainment equipment disappointing. Having to step over the reclining passengers feet is not attractive. ', \"✅ Trip Verified |  Paid £200 day before flight for an upgrade from economy to premium economy. At checkin they could not find my booking so a little wait while they rang someone who explains on the upgrade you get deleted from the system the checkin agent sees? Took about 5 minutes to resolve. Seat was nice enough. Stowage pocket in front a bit small. Food was reasonably nice. Shame that the bathroom is all the way back through economy and there is a bit of a queue. IFE system is good but selection mediocre. Worst part of the flight is that at CPT so we were on a remote stand and bussed in. Through passport control quickly but then it took an absolute age to get our luggage which ruined what would otherwise have been a reasonable flight. Upgrade was worth it at £200 maybe £300 (its a long flight) but their offers of £2000 or whatever for premium economy is comedy pricing. Score before the luggage fiasco would have been 7 or 8 / 10. With the luggage fiasco I can't rate it more than 4/10.\", '✅ Trip Verified |  BA website did not work (weirdly deleted my flight from \"upcoming flights\" on the day of departure). Chaos at Cape Town airport with hundreds queuing as the computers were down. Chaos at the gate / no queue management for premium passengers. Very nice new A350 with smart new club suite. Champagne warm (cabin crew said its impossible to serve it cold, which is not true as Air France manage it). Disappointing meal, wine served so late after the food you have finished by the time it arrives. Cheese ice cold and tasteless (why can\\'t the champagne / white wine be in the fridge used for the cheese?). Good IFE system but mediocre film selection. Disappointing breakfast. Overall: 3 / 10. Flew Air France business the month before which was way better. So sad what\\'s become of BA.'] \n",
      "\n",
      "[{'Aircraft': 'Boeing 777-200', 'Type Of Traveller': 'Family Leisure', 'Seat Type': 'Economy Class', 'Route': 'Atlanta to London', 'Date Flown': 'January 2023', 'Seat Comfort_rating': 1, 'Cabin Staff Service_rating': 1, 'Food & Beverages_rating': 1, 'Inflight Entertainment_rating': 3, 'Ground Service_rating': 1, 'Value For Money_rating': 2, 'Recommended': 'no'}, {'Aircraft': 'A380', 'Type Of Traveller': 'Family Leisure', 'Seat Type': 'Economy Class', 'Route': 'London to Chicago', 'Date Flown': 'December 2022', 'Seat Comfort_rating': 3, 'Cabin Staff Service_rating': 2, 'Food & Beverages_rating': 3, 'Inflight Entertainment_rating': 4, 'Ground Service_rating': 3, 'Value For Money_rating': 2, 'Recommended': 'no'}, {'Type Of Traveller': 'Family Leisure', 'Seat Type': 'Economy Class', 'Route': 'Istanbul to Vancouver via Heathrow', 'Date Flown': 'January 2023', 'Seat Comfort_rating': 1, 'Cabin Staff Service_rating': 5, 'Food & Beverages_rating': 1, 'Inflight Entertainment_rating': 1, 'Ground Service_rating': 1, 'Value For Money_rating': 1, 'Recommended': 'no'}, {'Aircraft': 'A320, A380', 'Type Of Traveller': 'Family Leisure', 'Seat Type': 'Business Class', 'Route': 'Vienna to Los Angeles via London Heathrow', 'Date Flown': 'January 2023', 'Seat Comfort_rating': 1, 'Cabin Staff Service_rating': 2, 'Food & Beverages_rating': 1, 'Inflight Entertainment_rating': 1, 'Ground Service_rating': 1, 'Wifi & Connectivity_rating': 1, 'Value For Money_rating': 1, 'Recommended': 'no'}, {'Type Of Traveller': 'Business', 'Seat Type': 'Business Class', 'Route': 'London to San francisco', 'Date Flown': 'January 2023', 'Seat Comfort_rating': 2, 'Cabin Staff Service_rating': 5, 'Food & Beverages_rating': 2, 'Inflight Entertainment_rating': 1, 'Ground Service_rating': 2, 'Wifi & Connectivity_rating': 1, 'Value For Money_rating': 1, 'Recommended': 'no'}, {'Aircraft': 'A321', 'Type Of Traveller': 'Business', 'Seat Type': 'Economy Class', 'Route': 'London to Belfast', 'Date Flown': 'January 2023', 'Seat Comfort_rating': 4, 'Cabin Staff Service_rating': 5, 'Food & Beverages_rating': 3, 'Ground Service_rating': 5, 'Value For Money_rating': 4, 'Recommended': 'yes'}, {'Aircraft': 'A380', 'Type Of Traveller': 'Business', 'Seat Type': 'Economy Class', 'Route': 'Doha to London', 'Date Flown': 'December 2022', 'Seat Comfort_rating': 5, 'Cabin Staff Service_rating': 3, 'Food & Beverages_rating': 1, 'Inflight Entertainment_rating': 1, 'Ground Service_rating': 5, 'Value For Money_rating': 4, 'Recommended': 'no'}, {'Aircraft': 'Boeing 777', 'Type Of Traveller': 'Couple Leisure', 'Seat Type': 'Business Class', 'Route': 'London to Barbados', 'Date Flown': 'December 2022', 'Seat Comfort_rating': 3, 'Cabin Staff Service_rating': 4, 'Food & Beverages_rating': 4, 'Inflight Entertainment_rating': 2, 'Ground Service_rating': 4, 'Value For Money_rating': 3, 'Recommended': 'no'}, {'Aircraft': 'Boeing 777', 'Type Of Traveller': 'Solo Leisure', 'Seat Type': 'Premium Economy', 'Route': 'London Gatwick to Cape Town', 'Date Flown': 'December 2022', 'Seat Comfort_rating': 3, 'Cabin Staff Service_rating': 4, 'Food & Beverages_rating': 4, 'Inflight Entertainment_rating': 2, 'Ground Service_rating': 2, 'Value For Money_rating': 3, 'Recommended': 'no'}, {'Aircraft': 'A350', 'Type Of Traveller': 'Solo Leisure', 'Seat Type': 'Business Class', 'Route': 'Cape Town to London', 'Date Flown': 'December 2022', 'Seat Comfort_rating': 4, 'Cabin Staff Service_rating': 3, 'Food & Beverages_rating': 2, 'Inflight Entertainment_rating': 2, 'Ground Service_rating': 1, 'Value For Money_rating': 2, 'Recommended': 'no'}]\n"
     ]
    }
   ],
   "source": [
    "titles_lst = []\n",
    "reviews_lst = []\n",
    "table_info_lst = []\n",
    "\n",
    "\n",
    "# define nr. of reviews that will be shown within single page\n",
    "reviews_per_pg = 10#100\n",
    "nr_pages = 1#5 # define nr.pages to be read TODO make it 10\n",
    "\n",
    "# using python requests to get web page\n",
    "for page_nr in range(1, nr_pages + 1):\n",
    "    # get url of each of each page (pages 1 through nr_pages) containing reviews_per_pg\n",
    "    base_url = \"https://www.airlinequality.com/airline-reviews/british-airways\"\n",
    "    url = f\"{base_url}/page/{page_nr}/?sortby=post_date%3ADesc&pagesize={reviews_per_pg}\"\n",
    "    r = requests.get(url)\n",
    "    \n",
    "    # parse content (learn more abt content and parse)\n",
    "    content = r.content\n",
    "    parsed_content = BeautifulSoup(content, 'html.parser')\n",
    "    # The reviews' content is stored under div, class=text_content. Find all divs with class=text_content to get content of\n",
    "    # all reviews\n",
    "    for review in parsed_content.find_all('div', class_=\"body\"):\n",
    "        #print(review)\n",
    "        titles_lst.append(review.find('h2', 'text_header').text) # review title\n",
    "        reviews_lst.append(review.find('div', 'text_content').text)# review body\n",
    "        table_info_lst.append(extract_table_info(review))\n",
    "        nr_reviews = len(reviews_lst)\n",
    "        if nr_reviews % 2 == 0: # only print every 100 retrieved reviews\n",
    "            print(f\"nr. of retrieved reviews\\n---->> {nr_reviews}\")\n",
    "\n",
    "print(titles_lst, '\\n')\n",
    "print(reviews_lst, '\\n')\n",
    "print(table_info_lst)"
   ]
  },
  {
   "cell_type": "markdown",
   "metadata": {
    "ExecuteTime": {
     "end_time": "2023-01-10T18:18:21.593570Z",
     "start_time": "2023-01-10T18:18:21.584920Z"
    }
   },
   "source": [
    "## Store data"
   ]
  },
  {
   "cell_type": "code",
   "execution_count": 4,
   "metadata": {
    "ExecuteTime": {
     "end_time": "2023-01-14T09:48:15.441742Z",
     "start_time": "2023-01-14T09:48:15.411110Z"
    }
   },
   "outputs": [
    {
     "data": {
      "text/html": [
       "<div>\n",
       "<style scoped>\n",
       "    .dataframe tbody tr th:only-of-type {\n",
       "        vertical-align: middle;\n",
       "    }\n",
       "\n",
       "    .dataframe tbody tr th {\n",
       "        vertical-align: top;\n",
       "    }\n",
       "\n",
       "    .dataframe thead th {\n",
       "        text-align: right;\n",
       "    }\n",
       "</style>\n",
       "<table border=\"1\" class=\"dataframe\">\n",
       "  <thead>\n",
       "    <tr style=\"text-align: right;\">\n",
       "      <th></th>\n",
       "      <th>titles</th>\n",
       "      <th>reviews</th>\n",
       "      <th>table_info</th>\n",
       "    </tr>\n",
       "  </thead>\n",
       "  <tbody>\n",
       "    <tr>\n",
       "      <th>0</th>\n",
       "      <td>\"This flight was so disappointing\"</td>\n",
       "      <td>✅ Trip Verified |  Flew ATL to LHR 8th Jan 202...</td>\n",
       "      <td>{'Aircraft': 'Boeing 777-200', 'Type Of Travel...</td>\n",
       "    </tr>\n",
       "    <tr>\n",
       "      <th>1</th>\n",
       "      <td>\"just an average airline\"</td>\n",
       "      <td>Not Verified |  Great thing about British Airw...</td>\n",
       "      <td>{'Aircraft': 'A380', 'Type Of Traveller': 'Fam...</td>\n",
       "    </tr>\n",
       "    <tr>\n",
       "      <th>2</th>\n",
       "      <td>\"Luggage is delayed\"</td>\n",
       "      <td>Not Verified | The staff are friendly. The pla...</td>\n",
       "      <td>{'Type Of Traveller': 'Family Leisure', 'Seat ...</td>\n",
       "    </tr>\n",
       "    <tr>\n",
       "      <th>3</th>\n",
       "      <td>\"the worst business class experience I've ever...</td>\n",
       "      <td>✅ Trip Verified | Probably the worst business ...</td>\n",
       "      <td>{'Aircraft': 'A320, A380', 'Type Of Traveller'...</td>\n",
       "    </tr>\n",
       "    <tr>\n",
       "      <th>4</th>\n",
       "      <td>\"not recommended for business class\"</td>\n",
       "      <td>✅ Trip Verified | Definitely not recommended, ...</td>\n",
       "      <td>{'Type Of Traveller': 'Business', 'Seat Type':...</td>\n",
       "    </tr>\n",
       "  </tbody>\n",
       "</table>\n",
       "</div>"
      ],
      "text/plain": [
       "                                              titles  \\\n",
       "0                 \"This flight was so disappointing\"   \n",
       "1                          \"just an average airline\"   \n",
       "2                              \"Luggage is delayed\"    \n",
       "3  \"the worst business class experience I've ever...   \n",
       "4               \"not recommended for business class\"   \n",
       "\n",
       "                                             reviews  \\\n",
       "0  ✅ Trip Verified |  Flew ATL to LHR 8th Jan 202...   \n",
       "1  Not Verified |  Great thing about British Airw...   \n",
       "2  Not Verified | The staff are friendly. The pla...   \n",
       "3  ✅ Trip Verified | Probably the worst business ...   \n",
       "4  ✅ Trip Verified | Definitely not recommended, ...   \n",
       "\n",
       "                                          table_info  \n",
       "0  {'Aircraft': 'Boeing 777-200', 'Type Of Travel...  \n",
       "1  {'Aircraft': 'A380', 'Type Of Traveller': 'Fam...  \n",
       "2  {'Type Of Traveller': 'Family Leisure', 'Seat ...  \n",
       "3  {'Aircraft': 'A320, A380', 'Type Of Traveller'...  \n",
       "4  {'Type Of Traveller': 'Business', 'Seat Type':...  "
      ]
     },
     "execution_count": 4,
     "metadata": {},
     "output_type": "execute_result"
    }
   ],
   "source": [
    "df = pd.DataFrame()\n",
    "df['titles'] = titles_lst\n",
    "df['reviews'] = reviews_lst\n",
    "df['table_info'] = table_info_lst\n",
    "\n",
    "df.head()"
   ]
  },
  {
   "cell_type": "code",
   "execution_count": 5,
   "metadata": {
    "ExecuteTime": {
     "end_time": "2023-01-14T09:48:15.457640Z",
     "start_time": "2023-01-14T09:48:15.444753Z"
    }
   },
   "outputs": [],
   "source": [
    "df.to_csv('baReviews.csv', index=False)"
   ]
  },
  {
   "cell_type": "markdown",
   "metadata": {},
   "source": [
    "# Clean Dataset"
   ]
  },
  {
   "cell_type": "code",
   "execution_count": 2,
   "metadata": {
    "ExecuteTime": {
     "end_time": "2023-01-14T15:54:14.497556Z",
     "start_time": "2023-01-14T15:54:14.371730Z"
    }
   },
   "outputs": [
    {
     "data": {
      "text/html": [
       "<div>\n",
       "<style scoped>\n",
       "    .dataframe tbody tr th:only-of-type {\n",
       "        vertical-align: middle;\n",
       "    }\n",
       "\n",
       "    .dataframe tbody tr th {\n",
       "        vertical-align: top;\n",
       "    }\n",
       "\n",
       "    .dataframe thead th {\n",
       "        text-align: right;\n",
       "    }\n",
       "</style>\n",
       "<table border=\"1\" class=\"dataframe\">\n",
       "  <thead>\n",
       "    <tr style=\"text-align: right;\">\n",
       "      <th></th>\n",
       "      <th>titles</th>\n",
       "      <th>reviews</th>\n",
       "      <th>table_info</th>\n",
       "    </tr>\n",
       "  </thead>\n",
       "  <tbody>\n",
       "    <tr>\n",
       "      <th>7</th>\n",
       "      <td>\"having to pay to reserve a specific seat\"</td>\n",
       "      <td>Not Verified |  When will BA update their Busi...</td>\n",
       "      <td>{'Aircraft': 'Boeing 777', 'Type Of Traveller'...</td>\n",
       "    </tr>\n",
       "    <tr>\n",
       "      <th>3</th>\n",
       "      <td>\"the worst business class experience I've ever...</td>\n",
       "      <td>✅ Trip Verified | Probably the worst business ...</td>\n",
       "      <td>{'Aircraft': 'A320, A380', 'Type Of Traveller'...</td>\n",
       "    </tr>\n",
       "    <tr>\n",
       "      <th>8</th>\n",
       "      <td>\"Upgrade was worth it\"</td>\n",
       "      <td>✅ Trip Verified |  Paid £200 day before flight...</td>\n",
       "      <td>{'Aircraft': 'Boeing 777', 'Type Of Traveller'...</td>\n",
       "    </tr>\n",
       "    <tr>\n",
       "      <th>1</th>\n",
       "      <td>\"just an average airline\"</td>\n",
       "      <td>Not Verified |  Great thing about British Airw...</td>\n",
       "      <td>{'Aircraft': 'A380', 'Type Of Traveller': 'Fam...</td>\n",
       "    </tr>\n",
       "    <tr>\n",
       "      <th>9</th>\n",
       "      <td>\"Disappointing meal\"</td>\n",
       "      <td>✅ Trip Verified |  BA website did not work (we...</td>\n",
       "      <td>{'Aircraft': 'A350', 'Type Of Traveller': 'Sol...</td>\n",
       "    </tr>\n",
       "  </tbody>\n",
       "</table>\n",
       "</div>"
      ],
      "text/plain": [
       "                                              titles  \\\n",
       "7         \"having to pay to reserve a specific seat\"   \n",
       "3  \"the worst business class experience I've ever...   \n",
       "8                             \"Upgrade was worth it\"   \n",
       "1                          \"just an average airline\"   \n",
       "9                               \"Disappointing meal\"   \n",
       "\n",
       "                                             reviews  \\\n",
       "7  Not Verified |  When will BA update their Busi...   \n",
       "3  ✅ Trip Verified | Probably the worst business ...   \n",
       "8  ✅ Trip Verified |  Paid £200 day before flight...   \n",
       "1  Not Verified |  Great thing about British Airw...   \n",
       "9  ✅ Trip Verified |  BA website did not work (we...   \n",
       "\n",
       "                                          table_info  \n",
       "7  {'Aircraft': 'Boeing 777', 'Type Of Traveller'...  \n",
       "3  {'Aircraft': 'A320, A380', 'Type Of Traveller'...  \n",
       "8  {'Aircraft': 'Boeing 777', 'Type Of Traveller'...  \n",
       "1  {'Aircraft': 'A380', 'Type Of Traveller': 'Fam...  \n",
       "9  {'Aircraft': 'A350', 'Type Of Traveller': 'Sol...  "
      ]
     },
     "execution_count": 2,
     "metadata": {},
     "output_type": "execute_result"
    }
   ],
   "source": [
    "df = pd.read_csv('baReviews.csv')\n",
    "df.sample(5)"
   ]
  },
  {
   "cell_type": "code",
   "execution_count": 3,
   "metadata": {
    "ExecuteTime": {
     "end_time": "2023-01-14T15:54:48.740927Z",
     "start_time": "2023-01-14T15:54:48.722553Z"
    }
   },
   "outputs": [
    {
     "data": {
      "text/plain": [
       "titles        object\n",
       "reviews       object\n",
       "table_info    object\n",
       "dtype: object"
      ]
     },
     "execution_count": 3,
     "metadata": {},
     "output_type": "execute_result"
    }
   ],
   "source": [
    "df.dtypes"
   ]
  },
  {
   "cell_type": "code",
   "execution_count": 4,
   "metadata": {
    "ExecuteTime": {
     "end_time": "2023-01-14T15:54:49.008699Z",
     "start_time": "2023-01-14T15:54:48.987510Z"
    }
   },
   "outputs": [],
   "source": [
    "for c in df.columns[df.dtypes=='float64']:\n",
    "    print(df[c].unique())\n",
    "# float64 due to missing values"
   ]
  },
  {
   "cell_type": "code",
   "execution_count": 5,
   "metadata": {
    "ExecuteTime": {
     "end_time": "2023-01-14T15:54:49.232924Z",
     "start_time": "2023-01-14T15:54:49.205040Z"
    }
   },
   "outputs": [
    {
     "data": {
      "text/html": [
       "<div>\n",
       "<style scoped>\n",
       "    .dataframe tbody tr th:only-of-type {\n",
       "        vertical-align: middle;\n",
       "    }\n",
       "\n",
       "    .dataframe tbody tr th {\n",
       "        vertical-align: top;\n",
       "    }\n",
       "\n",
       "    .dataframe thead th {\n",
       "        text-align: right;\n",
       "    }\n",
       "</style>\n",
       "<table border=\"1\" class=\"dataframe\">\n",
       "  <thead>\n",
       "    <tr style=\"text-align: right;\">\n",
       "      <th></th>\n",
       "      <th>titles</th>\n",
       "      <th>reviews</th>\n",
       "      <th>table_info</th>\n",
       "      <th>trip_verified</th>\n",
       "    </tr>\n",
       "  </thead>\n",
       "  <tbody>\n",
       "    <tr>\n",
       "      <th>0</th>\n",
       "      <td>\"This flight was so disappointing\"</td>\n",
       "      <td>Flew ATL to LHR 8th Jan 2023. Was unlucky en...</td>\n",
       "      <td>{'Aircraft': 'Boeing 777-200', 'Type Of Travel...</td>\n",
       "      <td>✅ Trip Verified</td>\n",
       "    </tr>\n",
       "    <tr>\n",
       "      <th>1</th>\n",
       "      <td>\"just an average airline\"</td>\n",
       "      <td>Great thing about British Airways A380 is th...</td>\n",
       "      <td>{'Aircraft': 'A380', 'Type Of Traveller': 'Fam...</td>\n",
       "      <td>Not Verified</td>\n",
       "    </tr>\n",
       "    <tr>\n",
       "      <th>2</th>\n",
       "      <td>\"Luggage is delayed\"</td>\n",
       "      <td>The staff are friendly. The plane was cold, w...</td>\n",
       "      <td>{'Type Of Traveller': 'Family Leisure', 'Seat ...</td>\n",
       "      <td>Not Verified</td>\n",
       "    </tr>\n",
       "    <tr>\n",
       "      <th>3</th>\n",
       "      <td>\"the worst business class experience I've ever...</td>\n",
       "      <td>Probably the worst business class experience ...</td>\n",
       "      <td>{'Aircraft': 'A320, A380', 'Type Of Traveller'...</td>\n",
       "      <td>✅ Trip Verified</td>\n",
       "    </tr>\n",
       "    <tr>\n",
       "      <th>4</th>\n",
       "      <td>\"not recommended for business class\"</td>\n",
       "      <td>Definitely not recommended, especially for bu...</td>\n",
       "      <td>{'Type Of Traveller': 'Business', 'Seat Type':...</td>\n",
       "      <td>✅ Trip Verified</td>\n",
       "    </tr>\n",
       "  </tbody>\n",
       "</table>\n",
       "</div>"
      ],
      "text/plain": [
       "                                              titles  \\\n",
       "0                 \"This flight was so disappointing\"   \n",
       "1                          \"just an average airline\"   \n",
       "2                              \"Luggage is delayed\"    \n",
       "3  \"the worst business class experience I've ever...   \n",
       "4               \"not recommended for business class\"   \n",
       "\n",
       "                                             reviews  \\\n",
       "0    Flew ATL to LHR 8th Jan 2023. Was unlucky en...   \n",
       "1    Great thing about British Airways A380 is th...   \n",
       "2   The staff are friendly. The plane was cold, w...   \n",
       "3   Probably the worst business class experience ...   \n",
       "4   Definitely not recommended, especially for bu...   \n",
       "\n",
       "                                          table_info     trip_verified  \n",
       "0  {'Aircraft': 'Boeing 777-200', 'Type Of Travel...  ✅ Trip Verified   \n",
       "1  {'Aircraft': 'A380', 'Type Of Traveller': 'Fam...     Not Verified   \n",
       "2  {'Type Of Traveller': 'Family Leisure', 'Seat ...     Not Verified   \n",
       "3  {'Aircraft': 'A320, A380', 'Type Of Traveller'...  ✅ Trip Verified   \n",
       "4  {'Type Of Traveller': 'Business', 'Seat Type':...  ✅ Trip Verified   "
      ]
     },
     "execution_count": 5,
     "metadata": {},
     "output_type": "execute_result"
    }
   ],
   "source": [
    "# remove verified and not verified\n",
    "df[['trip_verified','reviews']] = df['reviews'].str.split('|',expand=True)\n",
    "df.head()"
   ]
  },
  {
   "cell_type": "code",
   "execution_count": 6,
   "metadata": {
    "ExecuteTime": {
     "end_time": "2023-01-14T15:54:52.647776Z",
     "start_time": "2023-01-14T15:54:52.633663Z"
    }
   },
   "outputs": [],
   "source": [
    "# transform table_info column back to dict. Became text when read the csv\n",
    "df['table_info'] = df['table_info'].map(eval)"
   ]
  },
  {
   "cell_type": "code",
   "execution_count": 7,
   "metadata": {
    "ExecuteTime": {
     "end_time": "2023-01-14T15:54:52.968936Z",
     "start_time": "2023-01-14T15:54:52.917497Z"
    }
   },
   "outputs": [
    {
     "data": {
      "text/html": [
       "<div>\n",
       "<style scoped>\n",
       "    .dataframe tbody tr th:only-of-type {\n",
       "        vertical-align: middle;\n",
       "    }\n",
       "\n",
       "    .dataframe tbody tr th {\n",
       "        vertical-align: top;\n",
       "    }\n",
       "\n",
       "    .dataframe thead th {\n",
       "        text-align: right;\n",
       "    }\n",
       "</style>\n",
       "<table border=\"1\" class=\"dataframe\">\n",
       "  <thead>\n",
       "    <tr style=\"text-align: right;\">\n",
       "      <th></th>\n",
       "      <th>titles</th>\n",
       "      <th>reviews</th>\n",
       "      <th>trip_verified</th>\n",
       "      <th>Aircraft</th>\n",
       "      <th>Type Of Traveller</th>\n",
       "      <th>Seat Type</th>\n",
       "      <th>Route</th>\n",
       "      <th>Date Flown</th>\n",
       "      <th>Seat Comfort_rating</th>\n",
       "      <th>Cabin Staff Service_rating</th>\n",
       "      <th>Food &amp; Beverages_rating</th>\n",
       "      <th>Inflight Entertainment_rating</th>\n",
       "      <th>Ground Service_rating</th>\n",
       "      <th>Value For Money_rating</th>\n",
       "      <th>Recommended</th>\n",
       "      <th>Wifi &amp; Connectivity_rating</th>\n",
       "    </tr>\n",
       "  </thead>\n",
       "  <tbody>\n",
       "    <tr>\n",
       "      <th>0</th>\n",
       "      <td>\"This flight was so disappointing\"</td>\n",
       "      <td>Flew ATL to LHR 8th Jan 2023. Was unlucky en...</td>\n",
       "      <td>✅ Trip Verified</td>\n",
       "      <td>Boeing 777-200</td>\n",
       "      <td>Family Leisure</td>\n",
       "      <td>Economy Class</td>\n",
       "      <td>Atlanta to London</td>\n",
       "      <td>January 2023</td>\n",
       "      <td>1</td>\n",
       "      <td>1</td>\n",
       "      <td>1</td>\n",
       "      <td>3.0</td>\n",
       "      <td>1</td>\n",
       "      <td>2</td>\n",
       "      <td>no</td>\n",
       "      <td>NaN</td>\n",
       "    </tr>\n",
       "    <tr>\n",
       "      <th>1</th>\n",
       "      <td>\"just an average airline\"</td>\n",
       "      <td>Great thing about British Airways A380 is th...</td>\n",
       "      <td>Not Verified</td>\n",
       "      <td>A380</td>\n",
       "      <td>Family Leisure</td>\n",
       "      <td>Economy Class</td>\n",
       "      <td>London to Chicago</td>\n",
       "      <td>December 2022</td>\n",
       "      <td>3</td>\n",
       "      <td>2</td>\n",
       "      <td>3</td>\n",
       "      <td>4.0</td>\n",
       "      <td>3</td>\n",
       "      <td>2</td>\n",
       "      <td>no</td>\n",
       "      <td>NaN</td>\n",
       "    </tr>\n",
       "    <tr>\n",
       "      <th>2</th>\n",
       "      <td>\"Luggage is delayed\"</td>\n",
       "      <td>The staff are friendly. The plane was cold, w...</td>\n",
       "      <td>Not Verified</td>\n",
       "      <td>NaN</td>\n",
       "      <td>Family Leisure</td>\n",
       "      <td>Economy Class</td>\n",
       "      <td>Istanbul to Vancouver via Heathrow</td>\n",
       "      <td>January 2023</td>\n",
       "      <td>1</td>\n",
       "      <td>5</td>\n",
       "      <td>1</td>\n",
       "      <td>1.0</td>\n",
       "      <td>1</td>\n",
       "      <td>1</td>\n",
       "      <td>no</td>\n",
       "      <td>NaN</td>\n",
       "    </tr>\n",
       "    <tr>\n",
       "      <th>3</th>\n",
       "      <td>\"the worst business class experience I've ever...</td>\n",
       "      <td>Probably the worst business class experience ...</td>\n",
       "      <td>✅ Trip Verified</td>\n",
       "      <td>A320, A380</td>\n",
       "      <td>Family Leisure</td>\n",
       "      <td>Business Class</td>\n",
       "      <td>Vienna to Los Angeles via London Heathrow</td>\n",
       "      <td>January 2023</td>\n",
       "      <td>1</td>\n",
       "      <td>2</td>\n",
       "      <td>1</td>\n",
       "      <td>1.0</td>\n",
       "      <td>1</td>\n",
       "      <td>1</td>\n",
       "      <td>no</td>\n",
       "      <td>1.0</td>\n",
       "    </tr>\n",
       "    <tr>\n",
       "      <th>4</th>\n",
       "      <td>\"not recommended for business class\"</td>\n",
       "      <td>Definitely not recommended, especially for bu...</td>\n",
       "      <td>✅ Trip Verified</td>\n",
       "      <td>NaN</td>\n",
       "      <td>Business</td>\n",
       "      <td>Business Class</td>\n",
       "      <td>London to San francisco</td>\n",
       "      <td>January 2023</td>\n",
       "      <td>2</td>\n",
       "      <td>5</td>\n",
       "      <td>2</td>\n",
       "      <td>1.0</td>\n",
       "      <td>2</td>\n",
       "      <td>1</td>\n",
       "      <td>no</td>\n",
       "      <td>1.0</td>\n",
       "    </tr>\n",
       "  </tbody>\n",
       "</table>\n",
       "</div>"
      ],
      "text/plain": [
       "                                              titles  \\\n",
       "0                 \"This flight was so disappointing\"   \n",
       "1                          \"just an average airline\"   \n",
       "2                              \"Luggage is delayed\"    \n",
       "3  \"the worst business class experience I've ever...   \n",
       "4               \"not recommended for business class\"   \n",
       "\n",
       "                                             reviews     trip_verified  \\\n",
       "0    Flew ATL to LHR 8th Jan 2023. Was unlucky en...  ✅ Trip Verified    \n",
       "1    Great thing about British Airways A380 is th...     Not Verified    \n",
       "2   The staff are friendly. The plane was cold, w...     Not Verified    \n",
       "3   Probably the worst business class experience ...  ✅ Trip Verified    \n",
       "4   Definitely not recommended, especially for bu...  ✅ Trip Verified    \n",
       "\n",
       "         Aircraft Type Of Traveller       Seat Type  \\\n",
       "0  Boeing 777-200    Family Leisure   Economy Class   \n",
       "1            A380    Family Leisure   Economy Class   \n",
       "2             NaN    Family Leisure   Economy Class   \n",
       "3      A320, A380    Family Leisure  Business Class   \n",
       "4             NaN          Business  Business Class   \n",
       "\n",
       "                                       Route     Date Flown  \\\n",
       "0                          Atlanta to London   January 2023   \n",
       "1                          London to Chicago  December 2022   \n",
       "2         Istanbul to Vancouver via Heathrow   January 2023   \n",
       "3  Vienna to Los Angeles via London Heathrow   January 2023   \n",
       "4                    London to San francisco   January 2023   \n",
       "\n",
       "   Seat Comfort_rating  Cabin Staff Service_rating  Food & Beverages_rating  \\\n",
       "0                    1                           1                        1   \n",
       "1                    3                           2                        3   \n",
       "2                    1                           5                        1   \n",
       "3                    1                           2                        1   \n",
       "4                    2                           5                        2   \n",
       "\n",
       "   Inflight Entertainment_rating  Ground Service_rating  \\\n",
       "0                            3.0                      1   \n",
       "1                            4.0                      3   \n",
       "2                            1.0                      1   \n",
       "3                            1.0                      1   \n",
       "4                            1.0                      2   \n",
       "\n",
       "   Value For Money_rating Recommended  Wifi & Connectivity_rating  \n",
       "0                       2          no                         NaN  \n",
       "1                       2          no                         NaN  \n",
       "2                       1          no                         NaN  \n",
       "3                       1          no                         1.0  \n",
       "4                       1          no                         1.0  "
      ]
     },
     "execution_count": 7,
     "metadata": {},
     "output_type": "execute_result"
    }
   ],
   "source": [
    "# extract table info into cols\n",
    "df = pd.concat([df, df['table_info'].apply(pd.Series)], axis=1).drop(columns=['table_info'])\n",
    "df.head()"
   ]
  },
  {
   "cell_type": "code",
   "execution_count": 8,
   "metadata": {
    "ExecuteTime": {
     "end_time": "2023-01-14T15:54:53.261569Z",
     "start_time": "2023-01-14T15:54:53.240892Z"
    }
   },
   "outputs": [
    {
     "data": {
      "text/plain": [
       "Index(['titles', 'reviews', 'trip_verified', 'aircraft', 'type_of_traveller',\n",
       "       'seat_type', 'route', 'date_flown', 'seat_comfort_rating',\n",
       "       'cabin_staff_service_rating', 'food_beverages_rating',\n",
       "       'inflight_entertainment_rating', 'ground_service_rating',\n",
       "       'value_for_money_rating', 'recommended', 'wifi_connectivity_rating'],\n",
       "      dtype='object')"
      ]
     },
     "execution_count": 8,
     "metadata": {},
     "output_type": "execute_result"
    }
   ],
   "source": [
    "# lowercase words\n",
    "df.columns = df.columns.str.lower()\n",
    "# remove spaces and &\n",
    "df.columns = df.columns.str.replace('& ', '').str.replace(' ', '_')\n",
    "df.columns"
   ]
  },
  {
   "cell_type": "code",
   "execution_count": 9,
   "metadata": {
    "ExecuteTime": {
     "end_time": "2023-01-14T15:54:56.445242Z",
     "start_time": "2023-01-14T15:54:56.413991Z"
    }
   },
   "outputs": [
    {
     "data": {
      "text/html": [
       "<div>\n",
       "<style scoped>\n",
       "    .dataframe tbody tr th:only-of-type {\n",
       "        vertical-align: middle;\n",
       "    }\n",
       "\n",
       "    .dataframe tbody tr th {\n",
       "        vertical-align: top;\n",
       "    }\n",
       "\n",
       "    .dataframe thead th {\n",
       "        text-align: right;\n",
       "    }\n",
       "</style>\n",
       "<table border=\"1\" class=\"dataframe\">\n",
       "  <thead>\n",
       "    <tr style=\"text-align: right;\">\n",
       "      <th></th>\n",
       "      <th>titles</th>\n",
       "      <th>reviews</th>\n",
       "      <th>trip_verified</th>\n",
       "      <th>aircraft</th>\n",
       "      <th>type_of_traveller</th>\n",
       "      <th>seat_type</th>\n",
       "      <th>route</th>\n",
       "      <th>date_flown</th>\n",
       "      <th>seat_comfort_rating</th>\n",
       "      <th>cabin_staff_service_rating</th>\n",
       "      <th>food_beverages_rating</th>\n",
       "      <th>inflight_entertainment_rating</th>\n",
       "      <th>ground_service_rating</th>\n",
       "      <th>value_for_money_rating</th>\n",
       "      <th>recommended</th>\n",
       "      <th>wifi_connectivity_rating</th>\n",
       "    </tr>\n",
       "  </thead>\n",
       "  <tbody>\n",
       "    <tr>\n",
       "      <th>0</th>\n",
       "      <td>\"This flight was so disappointing\"</td>\n",
       "      <td>Flew ATL to LHR 8th Jan 2023. Was unlucky en...</td>\n",
       "      <td>✅ Trip Verified</td>\n",
       "      <td>Boeing 777-200</td>\n",
       "      <td>Family Leisure</td>\n",
       "      <td>Economy Class</td>\n",
       "      <td>Atlanta to London</td>\n",
       "      <td>January 2023</td>\n",
       "      <td>1</td>\n",
       "      <td>1</td>\n",
       "      <td>1</td>\n",
       "      <td>3.0</td>\n",
       "      <td>1</td>\n",
       "      <td>2</td>\n",
       "      <td>no</td>\n",
       "      <td>NaN</td>\n",
       "    </tr>\n",
       "    <tr>\n",
       "      <th>1</th>\n",
       "      <td>\"just an average airline\"</td>\n",
       "      <td>Great thing about British Airways A380 is th...</td>\n",
       "      <td>Not Verified</td>\n",
       "      <td>A380</td>\n",
       "      <td>Family Leisure</td>\n",
       "      <td>Economy Class</td>\n",
       "      <td>London to Chicago</td>\n",
       "      <td>December 2022</td>\n",
       "      <td>3</td>\n",
       "      <td>2</td>\n",
       "      <td>3</td>\n",
       "      <td>4.0</td>\n",
       "      <td>3</td>\n",
       "      <td>2</td>\n",
       "      <td>no</td>\n",
       "      <td>NaN</td>\n",
       "    </tr>\n",
       "    <tr>\n",
       "      <th>2</th>\n",
       "      <td>\"Luggage is delayed\"</td>\n",
       "      <td>The staff are friendly. The plane was cold, w...</td>\n",
       "      <td>Not Verified</td>\n",
       "      <td>NaN</td>\n",
       "      <td>Family Leisure</td>\n",
       "      <td>Economy Class</td>\n",
       "      <td>Istanbul to Vancouver via Heathrow</td>\n",
       "      <td>January 2023</td>\n",
       "      <td>1</td>\n",
       "      <td>5</td>\n",
       "      <td>1</td>\n",
       "      <td>1.0</td>\n",
       "      <td>1</td>\n",
       "      <td>1</td>\n",
       "      <td>no</td>\n",
       "      <td>NaN</td>\n",
       "    </tr>\n",
       "    <tr>\n",
       "      <th>3</th>\n",
       "      <td>\"the worst business class experience I've ever...</td>\n",
       "      <td>Probably the worst business class experience ...</td>\n",
       "      <td>✅ Trip Verified</td>\n",
       "      <td>A320, A380</td>\n",
       "      <td>Family Leisure</td>\n",
       "      <td>Business Class</td>\n",
       "      <td>Vienna to Los Angeles via London Heathrow</td>\n",
       "      <td>January 2023</td>\n",
       "      <td>1</td>\n",
       "      <td>2</td>\n",
       "      <td>1</td>\n",
       "      <td>1.0</td>\n",
       "      <td>1</td>\n",
       "      <td>1</td>\n",
       "      <td>no</td>\n",
       "      <td>1.0</td>\n",
       "    </tr>\n",
       "    <tr>\n",
       "      <th>4</th>\n",
       "      <td>\"not recommended for business class\"</td>\n",
       "      <td>Definitely not recommended, especially for bu...</td>\n",
       "      <td>✅ Trip Verified</td>\n",
       "      <td>NaN</td>\n",
       "      <td>Business</td>\n",
       "      <td>Business Class</td>\n",
       "      <td>London to San francisco</td>\n",
       "      <td>January 2023</td>\n",
       "      <td>2</td>\n",
       "      <td>5</td>\n",
       "      <td>2</td>\n",
       "      <td>1.0</td>\n",
       "      <td>2</td>\n",
       "      <td>1</td>\n",
       "      <td>no</td>\n",
       "      <td>1.0</td>\n",
       "    </tr>\n",
       "  </tbody>\n",
       "</table>\n",
       "</div>"
      ],
      "text/plain": [
       "                                              titles  \\\n",
       "0                 \"This flight was so disappointing\"   \n",
       "1                          \"just an average airline\"   \n",
       "2                              \"Luggage is delayed\"    \n",
       "3  \"the worst business class experience I've ever...   \n",
       "4               \"not recommended for business class\"   \n",
       "\n",
       "                                             reviews     trip_verified  \\\n",
       "0    Flew ATL to LHR 8th Jan 2023. Was unlucky en...  ✅ Trip Verified    \n",
       "1    Great thing about British Airways A380 is th...     Not Verified    \n",
       "2   The staff are friendly. The plane was cold, w...     Not Verified    \n",
       "3   Probably the worst business class experience ...  ✅ Trip Verified    \n",
       "4   Definitely not recommended, especially for bu...  ✅ Trip Verified    \n",
       "\n",
       "         aircraft type_of_traveller       seat_type  \\\n",
       "0  Boeing 777-200    Family Leisure   Economy Class   \n",
       "1            A380    Family Leisure   Economy Class   \n",
       "2             NaN    Family Leisure   Economy Class   \n",
       "3      A320, A380    Family Leisure  Business Class   \n",
       "4             NaN          Business  Business Class   \n",
       "\n",
       "                                       route     date_flown  \\\n",
       "0                          Atlanta to London   January 2023   \n",
       "1                          London to Chicago  December 2022   \n",
       "2         Istanbul to Vancouver via Heathrow   January 2023   \n",
       "3  Vienna to Los Angeles via London Heathrow   January 2023   \n",
       "4                    London to San francisco   January 2023   \n",
       "\n",
       "   seat_comfort_rating  cabin_staff_service_rating  food_beverages_rating  \\\n",
       "0                    1                           1                      1   \n",
       "1                    3                           2                      3   \n",
       "2                    1                           5                      1   \n",
       "3                    1                           2                      1   \n",
       "4                    2                           5                      2   \n",
       "\n",
       "   inflight_entertainment_rating  ground_service_rating  \\\n",
       "0                            3.0                      1   \n",
       "1                            4.0                      3   \n",
       "2                            1.0                      1   \n",
       "3                            1.0                      1   \n",
       "4                            1.0                      2   \n",
       "\n",
       "   value_for_money_rating recommended  wifi_connectivity_rating  \n",
       "0                       2          no                       NaN  \n",
       "1                       2          no                       NaN  \n",
       "2                       1          no                       NaN  \n",
       "3                       1          no                       1.0  \n",
       "4                       1          no                       1.0  "
      ]
     },
     "execution_count": 9,
     "metadata": {},
     "output_type": "execute_result"
    }
   ],
   "source": [
    "df.head()"
   ]
  },
  {
   "cell_type": "code",
   "execution_count": 10,
   "metadata": {
    "ExecuteTime": {
     "end_time": "2023-01-14T15:54:56.996622Z",
     "start_time": "2023-01-14T15:54:56.925429Z"
    }
   },
   "outputs": [
    {
     "data": {
      "text/html": [
       "<div>\n",
       "<style scoped>\n",
       "    .dataframe tbody tr th:only-of-type {\n",
       "        vertical-align: middle;\n",
       "    }\n",
       "\n",
       "    .dataframe tbody tr th {\n",
       "        vertical-align: top;\n",
       "    }\n",
       "\n",
       "    .dataframe thead th {\n",
       "        text-align: right;\n",
       "    }\n",
       "</style>\n",
       "<table border=\"1\" class=\"dataframe\">\n",
       "  <thead>\n",
       "    <tr style=\"text-align: right;\">\n",
       "      <th></th>\n",
       "      <th>titles</th>\n",
       "      <th>reviews</th>\n",
       "      <th>trip_verified</th>\n",
       "      <th>aircraft</th>\n",
       "      <th>type_of_traveller</th>\n",
       "      <th>seat_type</th>\n",
       "      <th>route</th>\n",
       "      <th>date_flown</th>\n",
       "      <th>seat_comfort_rating</th>\n",
       "      <th>cabin_staff_service_rating</th>\n",
       "      <th>food_beverages_rating</th>\n",
       "      <th>inflight_entertainment_rating</th>\n",
       "      <th>ground_service_rating</th>\n",
       "      <th>value_for_money_rating</th>\n",
       "      <th>recommended</th>\n",
       "      <th>wifi_connectivity_rating</th>\n",
       "    </tr>\n",
       "  </thead>\n",
       "  <tbody>\n",
       "    <tr>\n",
       "      <th>0</th>\n",
       "      <td>this flight was so disappointing</td>\n",
       "      <td>flew atl to lhr 8th jan 2023was unlucky enough...</td>\n",
       "      <td>trip verified</td>\n",
       "      <td>boeing 777-200</td>\n",
       "      <td>family leisure</td>\n",
       "      <td>economy class</td>\n",
       "      <td>atlanta to london</td>\n",
       "      <td>january 2023</td>\n",
       "      <td>1</td>\n",
       "      <td>1</td>\n",
       "      <td>1</td>\n",
       "      <td>3.0</td>\n",
       "      <td>1</td>\n",
       "      <td>2</td>\n",
       "      <td>no</td>\n",
       "      <td>NaN</td>\n",
       "    </tr>\n",
       "    <tr>\n",
       "      <th>1</th>\n",
       "      <td>just an average airline</td>\n",
       "      <td>great thing about british airways a380 is the ...</td>\n",
       "      <td>not verified</td>\n",
       "      <td>a380</td>\n",
       "      <td>family leisure</td>\n",
       "      <td>economy class</td>\n",
       "      <td>london to chicago</td>\n",
       "      <td>december 2022</td>\n",
       "      <td>3</td>\n",
       "      <td>2</td>\n",
       "      <td>3</td>\n",
       "      <td>4.0</td>\n",
       "      <td>3</td>\n",
       "      <td>2</td>\n",
       "      <td>no</td>\n",
       "      <td>NaN</td>\n",
       "    </tr>\n",
       "    <tr>\n",
       "      <th>2</th>\n",
       "      <td>luggage is delayed</td>\n",
       "      <td>the staff are friendlythe plane was coldwe we...</td>\n",
       "      <td>not verified</td>\n",
       "      <td>NaN</td>\n",
       "      <td>family leisure</td>\n",
       "      <td>economy class</td>\n",
       "      <td>istanbul to vancouver via heathrow</td>\n",
       "      <td>january 2023</td>\n",
       "      <td>1</td>\n",
       "      <td>5</td>\n",
       "      <td>1</td>\n",
       "      <td>1.0</td>\n",
       "      <td>1</td>\n",
       "      <td>1</td>\n",
       "      <td>no</td>\n",
       "      <td>NaN</td>\n",
       "    </tr>\n",
       "    <tr>\n",
       "      <th>3</th>\n",
       "      <td>the worst business class experience i've ever had</td>\n",
       "      <td>probably the worst business class experience ...</td>\n",
       "      <td>trip verified</td>\n",
       "      <td>a320a380</td>\n",
       "      <td>family leisure</td>\n",
       "      <td>business class</td>\n",
       "      <td>vienna to los angeles via london heathrow</td>\n",
       "      <td>january 2023</td>\n",
       "      <td>1</td>\n",
       "      <td>2</td>\n",
       "      <td>1</td>\n",
       "      <td>1.0</td>\n",
       "      <td>1</td>\n",
       "      <td>1</td>\n",
       "      <td>no</td>\n",
       "      <td>1.0</td>\n",
       "    </tr>\n",
       "    <tr>\n",
       "      <th>4</th>\n",
       "      <td>not recommended for business class</td>\n",
       "      <td>definitely not recommendedespecially for busi...</td>\n",
       "      <td>trip verified</td>\n",
       "      <td>NaN</td>\n",
       "      <td>business</td>\n",
       "      <td>business class</td>\n",
       "      <td>london to san francisco</td>\n",
       "      <td>january 2023</td>\n",
       "      <td>2</td>\n",
       "      <td>5</td>\n",
       "      <td>2</td>\n",
       "      <td>1.0</td>\n",
       "      <td>2</td>\n",
       "      <td>1</td>\n",
       "      <td>no</td>\n",
       "      <td>1.0</td>\n",
       "    </tr>\n",
       "  </tbody>\n",
       "</table>\n",
       "</div>"
      ],
      "text/plain": [
       "                                              titles  \\\n",
       "0                   this flight was so disappointing   \n",
       "1                            just an average airline   \n",
       "2                                 luggage is delayed   \n",
       "3  the worst business class experience i've ever had   \n",
       "4                 not recommended for business class   \n",
       "\n",
       "                                             reviews   trip_verified  \\\n",
       "0  flew atl to lhr 8th jan 2023was unlucky enough...  trip verified    \n",
       "1  great thing about british airways a380 is the ...   not verified    \n",
       "2   the staff are friendlythe plane was coldwe we...   not verified    \n",
       "3   probably the worst business class experience ...  trip verified    \n",
       "4   definitely not recommendedespecially for busi...  trip verified    \n",
       "\n",
       "         aircraft type_of_traveller       seat_type  \\\n",
       "0  boeing 777-200    family leisure   economy class   \n",
       "1            a380    family leisure   economy class   \n",
       "2             NaN    family leisure   economy class   \n",
       "3        a320a380    family leisure  business class   \n",
       "4             NaN          business  business class   \n",
       "\n",
       "                                       route     date_flown  \\\n",
       "0                          atlanta to london   january 2023   \n",
       "1                          london to chicago  december 2022   \n",
       "2         istanbul to vancouver via heathrow   january 2023   \n",
       "3  vienna to los angeles via london heathrow   january 2023   \n",
       "4                    london to san francisco   january 2023   \n",
       "\n",
       "   seat_comfort_rating  cabin_staff_service_rating  food_beverages_rating  \\\n",
       "0                    1                           1                      1   \n",
       "1                    3                           2                      3   \n",
       "2                    1                           5                      1   \n",
       "3                    1                           2                      1   \n",
       "4                    2                           5                      2   \n",
       "\n",
       "   inflight_entertainment_rating  ground_service_rating  \\\n",
       "0                            3.0                      1   \n",
       "1                            4.0                      3   \n",
       "2                            1.0                      1   \n",
       "3                            1.0                      1   \n",
       "4                            1.0                      2   \n",
       "\n",
       "   value_for_money_rating recommended  wifi_connectivity_rating  \n",
       "0                       2          no                       NaN  \n",
       "1                       2          no                       NaN  \n",
       "2                       1          no                       NaN  \n",
       "3                       1          no                       1.0  \n",
       "4                       1          no                       1.0  "
      ]
     },
     "execution_count": 10,
     "metadata": {},
     "output_type": "execute_result"
    }
   ],
   "source": [
    "# TODO still need to remove \\r\\n, start and end spaces..\n",
    "\n",
    "for c in df.columns[df.dtypes=='object']:\n",
    "    df[c] = df[c].str.lower()\n",
    "    # remove ticks\n",
    "    df[c] = df[c].str.replace('\\W\\s', '', regex=True)\n",
    "    # remove double quotes from strings in column titles\n",
    "    df[c] = df[c].str.replace('\"', '')\n",
    "df.head()"
   ]
  },
  {
   "cell_type": "code",
   "execution_count": 11,
   "metadata": {
    "ExecuteTime": {
     "end_time": "2023-01-14T15:55:00.425062Z",
     "start_time": "2023-01-14T15:55:00.402551Z"
    }
   },
   "outputs": [
    {
     "data": {
      "text/plain": [
       "'ba shuttle service across the uk is still surprisingly a good productwhen compared with ba long haul that doesn’t always get the best of comments at timesit’s reasonable pricedworks wellfresh crews and no queues or long distances to walki don’t know why they still offer a covid style bottle of water and snack when just stretching to a cup of tea and snack would be great add on for this servicecurrently they have an on line sky cafe but it’s too fiddly to work or get connected in short trips.'"
      ]
     },
     "execution_count": 11,
     "metadata": {},
     "output_type": "execute_result"
    }
   ],
   "source": [
    "df.loc[5]['reviews']"
   ]
  },
  {
   "cell_type": "code",
   "execution_count": 12,
   "metadata": {
    "ExecuteTime": {
     "end_time": "2023-01-14T15:55:00.658667Z",
     "start_time": "2023-01-14T15:55:00.642467Z"
    }
   },
   "outputs": [
    {
     "data": {
      "text/plain": [
       "'flew atl to lhr 8th jan 2023was unlucky enough to be on board a 23 year old 777refit gave it a decent ife screen and the seat looked decentalthough combine the ife with the cheap and nasty earbudsand any movie can be ruinedheadrest was greatjust a pity little padding is used on the seat as my wife and i were very uncomfortablethe leg room in general is poorespecially when passengers keep their seat reclined from start to finishzero roomaircraft was tiredrubber spacers falling outsilicone sealer falling apart in the toiletstoilet seats oldstainedrubber on arm rest was hanging offno post take off drinks/snacks offered meal was sent out after a couple of hourswas poorchicken cubes that reminded me of dog foodmashed potatoes that were purified within an inch of their lifestale rock hard rollsalad which was rice and carrots?dried crackers with no cheesekids meal was just as sadtiny leaf salad with enough dressing to refloat a shipwreckcoffee creamer was given with the kids mealsnack was decent for the adultsbagel with cheese and egghot and tastykids snack was a green wrap with spinach and onions in it very very poormix the foodba service with a gruntbeing crammed into a seat for 7 hourslanding at a remote stand and enduring a bus to the terminal and ba in my opinionis terriblethis flight was so disappointingother than one great member of cabin creweverything else was just average.'"
      ]
     },
     "execution_count": 12,
     "metadata": {},
     "output_type": "execute_result"
    }
   ],
   "source": [
    "df['reviews'].values[0]"
   ]
  },
  {
   "cell_type": "code",
   "execution_count": null,
   "metadata": {
    "ExecuteTime": {
     "end_time": "2023-01-13T19:15:33.476833Z",
     "start_time": "2023-01-13T19:15:33.452994Z"
    }
   },
   "outputs": [],
   "source": []
  },
  {
   "cell_type": "markdown",
   "metadata": {},
   "source": [
    "# Perform Analysis\n",
    "- uncover some insights. As a starting point, you could look at topic modelling, sentiment analysis or wordclouds to provide some insight into the content of the reviews\n",
    "- As a data scientist at BA, it will be your job to apply your analytical skills to influence real life multi-million-pound decisions from day one, making a tangible impact on the business as your recommendations, tools and models drive key business decisions, reduce costs and increase revenue. Customers who book a flight with BA will experience many interaction points with the BA brand. Understanding a customer's feelings, needs, and feedback is crucial for any business, including BA."
   ]
  },
  {
   "cell_type": "code",
   "execution_count": 13,
   "metadata": {
    "ExecuteTime": {
     "end_time": "2023-01-14T15:55:06.956693Z",
     "start_time": "2023-01-14T15:55:06.938441Z"
    }
   },
   "outputs": [
    {
     "data": {
      "text/plain": [
       "(10, 16)"
      ]
     },
     "execution_count": 13,
     "metadata": {},
     "output_type": "execute_result"
    }
   ],
   "source": [
    "df.shape"
   ]
  },
  {
   "cell_type": "markdown",
   "metadata": {},
   "source": [
    "Could do EDA\n",
    "- e.g.: can I get the scores? and if so how many times each score appears?"
   ]
  },
  {
   "cell_type": "code",
   "execution_count": 26,
   "metadata": {
    "ExecuteTime": {
     "end_time": "2023-01-13T18:51:03.721825Z",
     "start_time": "2023-01-13T18:51:03.694123Z"
    }
   },
   "outputs": [
    {
     "data": {
      "text/html": [
       "<div>\n",
       "<style scoped>\n",
       "    .dataframe tbody tr th:only-of-type {\n",
       "        vertical-align: middle;\n",
       "    }\n",
       "\n",
       "    .dataframe tbody tr th {\n",
       "        vertical-align: top;\n",
       "    }\n",
       "\n",
       "    .dataframe thead th {\n",
       "        text-align: right;\n",
       "    }\n",
       "</style>\n",
       "<table border=\"1\" class=\"dataframe\">\n",
       "  <thead>\n",
       "    <tr style=\"text-align: right;\">\n",
       "      <th></th>\n",
       "      <th>seat_comfort_rating</th>\n",
       "      <th>cabin_staff_service_rating</th>\n",
       "      <th>food_beverages_rating</th>\n",
       "      <th>inflight_entertainment_rating</th>\n",
       "      <th>ground_service_rating</th>\n",
       "      <th>value_for_money_rating</th>\n",
       "      <th>wifi_connectivity_rating</th>\n",
       "    </tr>\n",
       "  </thead>\n",
       "  <tbody>\n",
       "    <tr>\n",
       "      <th>0</th>\n",
       "      <td>1</td>\n",
       "      <td>1</td>\n",
       "      <td>1</td>\n",
       "      <td>3.0</td>\n",
       "      <td>1</td>\n",
       "      <td>2</td>\n",
       "      <td>NaN</td>\n",
       "    </tr>\n",
       "    <tr>\n",
       "      <th>1</th>\n",
       "      <td>3</td>\n",
       "      <td>2</td>\n",
       "      <td>3</td>\n",
       "      <td>4.0</td>\n",
       "      <td>3</td>\n",
       "      <td>2</td>\n",
       "      <td>NaN</td>\n",
       "    </tr>\n",
       "    <tr>\n",
       "      <th>2</th>\n",
       "      <td>1</td>\n",
       "      <td>5</td>\n",
       "      <td>1</td>\n",
       "      <td>1.0</td>\n",
       "      <td>1</td>\n",
       "      <td>1</td>\n",
       "      <td>NaN</td>\n",
       "    </tr>\n",
       "    <tr>\n",
       "      <th>3</th>\n",
       "      <td>1</td>\n",
       "      <td>2</td>\n",
       "      <td>1</td>\n",
       "      <td>1.0</td>\n",
       "      <td>1</td>\n",
       "      <td>1</td>\n",
       "      <td>1.0</td>\n",
       "    </tr>\n",
       "    <tr>\n",
       "      <th>4</th>\n",
       "      <td>2</td>\n",
       "      <td>5</td>\n",
       "      <td>2</td>\n",
       "      <td>1.0</td>\n",
       "      <td>2</td>\n",
       "      <td>1</td>\n",
       "      <td>1.0</td>\n",
       "    </tr>\n",
       "    <tr>\n",
       "      <th>5</th>\n",
       "      <td>4</td>\n",
       "      <td>5</td>\n",
       "      <td>3</td>\n",
       "      <td>NaN</td>\n",
       "      <td>5</td>\n",
       "      <td>4</td>\n",
       "      <td>NaN</td>\n",
       "    </tr>\n",
       "    <tr>\n",
       "      <th>6</th>\n",
       "      <td>5</td>\n",
       "      <td>3</td>\n",
       "      <td>1</td>\n",
       "      <td>1.0</td>\n",
       "      <td>5</td>\n",
       "      <td>4</td>\n",
       "      <td>NaN</td>\n",
       "    </tr>\n",
       "    <tr>\n",
       "      <th>7</th>\n",
       "      <td>3</td>\n",
       "      <td>4</td>\n",
       "      <td>4</td>\n",
       "      <td>2.0</td>\n",
       "      <td>4</td>\n",
       "      <td>3</td>\n",
       "      <td>NaN</td>\n",
       "    </tr>\n",
       "    <tr>\n",
       "      <th>8</th>\n",
       "      <td>3</td>\n",
       "      <td>4</td>\n",
       "      <td>4</td>\n",
       "      <td>2.0</td>\n",
       "      <td>2</td>\n",
       "      <td>3</td>\n",
       "      <td>NaN</td>\n",
       "    </tr>\n",
       "    <tr>\n",
       "      <th>9</th>\n",
       "      <td>4</td>\n",
       "      <td>3</td>\n",
       "      <td>2</td>\n",
       "      <td>2.0</td>\n",
       "      <td>1</td>\n",
       "      <td>2</td>\n",
       "      <td>NaN</td>\n",
       "    </tr>\n",
       "  </tbody>\n",
       "</table>\n",
       "</div>"
      ],
      "text/plain": [
       "   seat_comfort_rating  cabin_staff_service_rating  food_beverages_rating  \\\n",
       "0                    1                           1                      1   \n",
       "1                    3                           2                      3   \n",
       "2                    1                           5                      1   \n",
       "3                    1                           2                      1   \n",
       "4                    2                           5                      2   \n",
       "5                    4                           5                      3   \n",
       "6                    5                           3                      1   \n",
       "7                    3                           4                      4   \n",
       "8                    3                           4                      4   \n",
       "9                    4                           3                      2   \n",
       "\n",
       "   inflight_entertainment_rating  ground_service_rating  \\\n",
       "0                            3.0                      1   \n",
       "1                            4.0                      3   \n",
       "2                            1.0                      1   \n",
       "3                            1.0                      1   \n",
       "4                            1.0                      2   \n",
       "5                            NaN                      5   \n",
       "6                            1.0                      5   \n",
       "7                            2.0                      4   \n",
       "8                            2.0                      2   \n",
       "9                            2.0                      1   \n",
       "\n",
       "   value_for_money_rating  wifi_connectivity_rating  \n",
       "0                       2                       NaN  \n",
       "1                       2                       NaN  \n",
       "2                       1                       NaN  \n",
       "3                       1                       1.0  \n",
       "4                       1                       1.0  \n",
       "5                       4                       NaN  \n",
       "6                       4                       NaN  \n",
       "7                       3                       NaN  \n",
       "8                       3                       NaN  \n",
       "9                       2                       NaN  "
      ]
     },
     "execution_count": 26,
     "metadata": {},
     "output_type": "execute_result"
    }
   ],
   "source": []
  },
  {
   "cell_type": "markdown",
   "metadata": {},
   "source": [
    "# Review by stars"
   ]
  },
  {
   "cell_type": "markdown",
   "metadata": {},
   "source": [
    "## Stars vs. categories"
   ]
  },
  {
   "cell_type": "code",
   "execution_count": 46,
   "metadata": {
    "ExecuteTime": {
     "end_time": "2023-01-13T19:08:22.267990Z",
     "start_time": "2023-01-13T19:08:21.634021Z"
    }
   },
   "outputs": [
    {
     "data": {
      "text/plain": [
       "<matplotlib.axes._subplots.AxesSubplot at 0x21a5d797e48>"
      ]
     },
     "execution_count": 46,
     "metadata": {},
     "output_type": "execute_result"
    },
    {
     "data": {
      "image/png": "[encoded data removed]",
      "text/plain": [
       "<Figure size 864x432 with 1 Axes>"
      ]
     },
     "metadata": {
      "needs_background": "light"
     },
     "output_type": "display_data"
    }
   ],
   "source": [
    "# average stars per category - boxplot = good overall undertsnading, bt perhaps not best\n",
    "# option to present to non-technical audience. Probably better to present barplot of avg/median\n",
    "df_ratings = df.select_dtypes(include=np.number)\n",
    "df_ratings.columns = df_ratings.columns.str.replace('_rating', '')\n",
    "df_ratings.fillna(0).plot(kind='box', figsize=(12,6))"
   ]
  },
  {
   "cell_type": "markdown",
   "metadata": {},
   "source": [
    "## Sentiment Analysis w. Roberta (Hugging Face)"
   ]
  },
  {
   "cell_type": "code",
   "execution_count": 14,
   "metadata": {
    "ExecuteTime": {
     "end_time": "2023-01-14T15:55:17.746660Z",
     "start_time": "2023-01-14T15:55:17.735607Z"
    }
   },
   "outputs": [],
   "source": [
    "#!pip install transformers"
   ]
  },
  {
   "cell_type": "code",
   "execution_count": 18,
   "metadata": {
    "ExecuteTime": {
     "end_time": "2023-01-14T16:00:48.246195Z",
     "start_time": "2023-01-14T16:00:41.529053Z"
    }
   },
   "outputs": [
    {
     "name": "stdout",
     "output_type": "stream",
     "text": [
      "Requirement already satisfied: torch in c:\\users\\thais.linsdearaujo\\anaconda3\\lib\\site-packages (1.4.0)\n"
     ]
    },
    {
     "name": "stderr",
     "output_type": "stream",
     "text": [
      "Keyring is skipped due to an exception: 'keyring.backends'\n"
     ]
    }
   ],
   "source": [
    "!pip install torch"
   ]
  },
  {
   "cell_type": "code",
   "execution_count": 15,
   "metadata": {
    "ExecuteTime": {
     "end_time": "2023-01-14T15:55:56.246103Z",
     "start_time": "2023-01-14T15:55:51.227189Z"
    }
   },
   "outputs": [],
   "source": [
    "import nltk"
   ]
  },
  {
   "cell_type": "code",
   "execution_count": 16,
   "metadata": {
    "ExecuteTime": {
     "end_time": "2023-01-14T15:57:01.517070Z",
     "start_time": "2023-01-14T15:56:56.860113Z"
    }
   },
   "outputs": [],
   "source": [
    "from transformers import pipeline\n",
    "from tqdm.notebook import tqdm\n",
    "from transformers import AutoTokenizer\n",
    "from transformers import AutoModelForSequenceClassification\n",
    "from scipy.special import softmax"
   ]
  },
  {
   "cell_type": "code",
   "execution_count": 17,
   "metadata": {
    "ExecuteTime": {
     "end_time": "2023-01-14T15:57:57.986200Z",
     "start_time": "2023-01-14T15:57:18.966839Z"
    },
    "scrolled": false
   },
   "outputs": [
    {
     "data": {
      "application/vnd.jupyter.widget-view+json": {
       "model_id": "74fce7d5376a47d98048f734f2444e1b",
       "version_major": 2,
       "version_minor": 0
      },
      "text/plain": [
       "Downloading:   0%|          | 0.00/747 [00:00<?, ?B/s]"
      ]
     },
     "metadata": {},
     "output_type": "display_data"
    },
    {
     "name": "stderr",
     "output_type": "stream",
     "text": [
      "C:\\Users\\thais.linsdearaujo\\Anaconda3\\lib\\site-packages\\huggingface_hub\\file_download.py:127: UserWarning: `huggingface_hub` cache-system uses symlinks by default to efficiently store duplicated files but your machine does not support them in C:\\Users\\thais.linsdearaujo\\.cache\\huggingface\\hub. Caching files will still work but in a degraded version that might require more space on your disk. This warning can be disabled by setting the `HF_HUB_DISABLE_SYMLINKS_WARNING` environment variable. For more details, see https://huggingface.co/docs/huggingface_hub/how-to-cache#limitations.\n",
      "To support symlinks on Windows, you either need to activate Developer Mode or to run Python as an administrator. In order to see activate developer mode, see this article: https://docs.microsoft.com/en-us/windows/apps/get-started/enable-your-device-for-development\n",
      "  warnings.warn(message)\n"
     ]
    },
    {
     "data": {
      "application/vnd.jupyter.widget-view+json": {
       "model_id": "3cd09d1ca4634e6ca2f8d94558a4a99f",
       "version_major": 2,
       "version_minor": 0
      },
      "text/plain": [
       "Downloading:   0%|          | 0.00/899k [00:00<?, ?B/s]"
      ]
     },
     "metadata": {},
     "output_type": "display_data"
    },
    {
     "data": {
      "application/vnd.jupyter.widget-view+json": {
       "model_id": "a78aa72d40064cc1bab8f8401a8ffe39",
       "version_major": 2,
       "version_minor": 0
      },
      "text/plain": [
       "Downloading:   0%|          | 0.00/456k [00:00<?, ?B/s]"
      ]
     },
     "metadata": {},
     "output_type": "display_data"
    },
    {
     "data": {
      "application/vnd.jupyter.widget-view+json": {
       "model_id": "f86efcdbb1e5468e90f264dd0f375ff1",
       "version_major": 2,
       "version_minor": 0
      },
      "text/plain": [
       "Downloading:   0%|          | 0.00/150 [00:00<?, ?B/s]"
      ]
     },
     "metadata": {},
     "output_type": "display_data"
    },
    {
     "data": {
      "application/vnd.jupyter.widget-view+json": {
       "model_id": "9b482c40129742698118decd204da5e8",
       "version_major": 2,
       "version_minor": 0
      },
      "text/plain": [
       "Downloading:   0%|          | 0.00/499M [00:00<?, ?B/s]"
      ]
     },
     "metadata": {},
     "output_type": "display_data"
    },
    {
     "ename": "OSError",
     "evalue": "Unable to load weights from pytorch checkpoint file for 'C:\\Users\\thais.linsdearaujo/.cache\\huggingface\\hub\\models--cardiffnlp--twitter-roberta-base-sentiment\\snapshots\\08b4d993d880171203539b37794af581debb55ca\\pytorch_model.bin' at 'C:\\Users\\thais.linsdearaujo/.cache\\huggingface\\hub\\models--cardiffnlp--twitter-roberta-base-sentiment\\snapshots\\08b4d993d880171203539b37794af581debb55ca\\pytorch_model.bin'. If you tried to load a PyTorch model from a TF 2.0 checkpoint, please set from_tf=True.",
     "output_type": "error",
     "traceback": [
      "\u001b[1;31m---------------------------------------------------------------------------\u001b[0m",
      "\u001b[1;31mRuntimeError\u001b[0m                              Traceback (most recent call last)",
      "\u001b[1;32m~\\Anaconda3\\lib\\site-packages\\transformers\\modeling_utils.py\u001b[0m in \u001b[0;36mload_state_dict\u001b[1;34m(checkpoint_file)\u001b[0m\n\u001b[0;32m    398\u001b[0m     \u001b[1;32mtry\u001b[0m\u001b[1;33m:\u001b[0m\u001b[1;33m\u001b[0m\u001b[1;33m\u001b[0m\u001b[0m\n\u001b[1;32m--> 399\u001b[1;33m         \u001b[1;32mreturn\u001b[0m \u001b[0mtorch\u001b[0m\u001b[1;33m.\u001b[0m\u001b[0mload\u001b[0m\u001b[1;33m(\u001b[0m\u001b[0mcheckpoint_file\u001b[0m\u001b[1;33m,\u001b[0m \u001b[0mmap_location\u001b[0m\u001b[1;33m=\u001b[0m\u001b[1;34m\"cpu\"\u001b[0m\u001b[1;33m)\u001b[0m\u001b[1;33m\u001b[0m\u001b[1;33m\u001b[0m\u001b[0m\n\u001b[0m\u001b[0;32m    400\u001b[0m     \u001b[1;32mexcept\u001b[0m \u001b[0mException\u001b[0m \u001b[1;32mas\u001b[0m \u001b[0me\u001b[0m\u001b[1;33m:\u001b[0m\u001b[1;33m\u001b[0m\u001b[1;33m\u001b[0m\u001b[0m\n",
      "\u001b[1;32m~\\Anaconda3\\lib\\site-packages\\torch\\serialization.py\u001b[0m in \u001b[0;36mload\u001b[1;34m(f, map_location, pickle_module, **pickle_load_args)\u001b[0m\n\u001b[0;32m    526\u001b[0m         \u001b[1;32mif\u001b[0m \u001b[0m_is_zipfile\u001b[0m\u001b[1;33m(\u001b[0m\u001b[0mopened_file\u001b[0m\u001b[1;33m)\u001b[0m\u001b[1;33m:\u001b[0m\u001b[1;33m\u001b[0m\u001b[1;33m\u001b[0m\u001b[0m\n\u001b[1;32m--> 527\u001b[1;33m             \u001b[1;32mwith\u001b[0m \u001b[0m_open_zipfile_reader\u001b[0m\u001b[1;33m(\u001b[0m\u001b[0mf\u001b[0m\u001b[1;33m)\u001b[0m \u001b[1;32mas\u001b[0m \u001b[0mopened_zipfile\u001b[0m\u001b[1;33m:\u001b[0m\u001b[1;33m\u001b[0m\u001b[1;33m\u001b[0m\u001b[0m\n\u001b[0m\u001b[0;32m    528\u001b[0m                 \u001b[1;32mreturn\u001b[0m \u001b[0m_load\u001b[0m\u001b[1;33m(\u001b[0m\u001b[0mopened_zipfile\u001b[0m\u001b[1;33m,\u001b[0m \u001b[0mmap_location\u001b[0m\u001b[1;33m,\u001b[0m \u001b[0mpickle_module\u001b[0m\u001b[1;33m,\u001b[0m \u001b[1;33m**\u001b[0m\u001b[0mpickle_load_args\u001b[0m\u001b[1;33m)\u001b[0m\u001b[1;33m\u001b[0m\u001b[1;33m\u001b[0m\u001b[0m\n",
      "\u001b[1;32m~\\Anaconda3\\lib\\site-packages\\torch\\serialization.py\u001b[0m in \u001b[0;36m__init__\u001b[1;34m(self, name_or_buffer)\u001b[0m\n\u001b[0;32m    223\u001b[0m     \u001b[1;32mdef\u001b[0m \u001b[0m__init__\u001b[0m\u001b[1;33m(\u001b[0m\u001b[0mself\u001b[0m\u001b[1;33m,\u001b[0m \u001b[0mname_or_buffer\u001b[0m\u001b[1;33m)\u001b[0m\u001b[1;33m:\u001b[0m\u001b[1;33m\u001b[0m\u001b[1;33m\u001b[0m\u001b[0m\n\u001b[1;32m--> 224\u001b[1;33m         \u001b[0msuper\u001b[0m\u001b[1;33m(\u001b[0m\u001b[0m_open_zipfile_reader\u001b[0m\u001b[1;33m,\u001b[0m \u001b[0mself\u001b[0m\u001b[1;33m)\u001b[0m\u001b[1;33m.\u001b[0m\u001b[0m__init__\u001b[0m\u001b[1;33m(\u001b[0m\u001b[0mtorch\u001b[0m\u001b[1;33m.\u001b[0m\u001b[0m_C\u001b[0m\u001b[1;33m.\u001b[0m\u001b[0mPyTorchFileReader\u001b[0m\u001b[1;33m(\u001b[0m\u001b[0mname_or_buffer\u001b[0m\u001b[1;33m)\u001b[0m\u001b[1;33m)\u001b[0m\u001b[1;33m\u001b[0m\u001b[1;33m\u001b[0m\u001b[0m\n\u001b[0m\u001b[0;32m    225\u001b[0m \u001b[1;33m\u001b[0m\u001b[0m\n",
      "\u001b[1;31mRuntimeError\u001b[0m: version_ <= kMaxSupportedFileFormatVersion INTERNAL ASSERT FAILED at ..\\caffe2\\serialize\\inline_container.cc:132, please report a bug to PyTorch. Attempted to read a PyTorch file with version 3, but the maximum supported version for reading is 2. Your PyTorch installation may be too old. (init at ..\\caffe2\\serialize\\inline_container.cc:132)\n(no backtrace available)",
      "\nDuring handling of the above exception, another exception occurred:\n",
      "\u001b[1;31mUnicodeDecodeError\u001b[0m                        Traceback (most recent call last)",
      "\u001b[1;32m~\\Anaconda3\\lib\\site-packages\\transformers\\modeling_utils.py\u001b[0m in \u001b[0;36mload_state_dict\u001b[1;34m(checkpoint_file)\u001b[0m\n\u001b[0;32m    402\u001b[0m             \u001b[1;32mwith\u001b[0m \u001b[0mopen\u001b[0m\u001b[1;33m(\u001b[0m\u001b[0mcheckpoint_file\u001b[0m\u001b[1;33m)\u001b[0m \u001b[1;32mas\u001b[0m \u001b[0mf\u001b[0m\u001b[1;33m:\u001b[0m\u001b[1;33m\u001b[0m\u001b[1;33m\u001b[0m\u001b[0m\n\u001b[1;32m--> 403\u001b[1;33m                 \u001b[1;32mif\u001b[0m \u001b[0mf\u001b[0m\u001b[1;33m.\u001b[0m\u001b[0mread\u001b[0m\u001b[1;33m(\u001b[0m\u001b[1;33m)\u001b[0m\u001b[1;33m.\u001b[0m\u001b[0mstartswith\u001b[0m\u001b[1;33m(\u001b[0m\u001b[1;34m\"version\"\u001b[0m\u001b[1;33m)\u001b[0m\u001b[1;33m:\u001b[0m\u001b[1;33m\u001b[0m\u001b[1;33m\u001b[0m\u001b[0m\n\u001b[0m\u001b[0;32m    404\u001b[0m                     raise OSError(\n",
      "\u001b[1;32m~\\Anaconda3\\lib\\encodings\\cp1252.py\u001b[0m in \u001b[0;36mdecode\u001b[1;34m(self, input, final)\u001b[0m\n\u001b[0;32m     22\u001b[0m     \u001b[1;32mdef\u001b[0m \u001b[0mdecode\u001b[0m\u001b[1;33m(\u001b[0m\u001b[0mself\u001b[0m\u001b[1;33m,\u001b[0m \u001b[0minput\u001b[0m\u001b[1;33m,\u001b[0m \u001b[0mfinal\u001b[0m\u001b[1;33m=\u001b[0m\u001b[1;32mFalse\u001b[0m\u001b[1;33m)\u001b[0m\u001b[1;33m:\u001b[0m\u001b[1;33m\u001b[0m\u001b[1;33m\u001b[0m\u001b[0m\n\u001b[1;32m---> 23\u001b[1;33m         \u001b[1;32mreturn\u001b[0m \u001b[0mcodecs\u001b[0m\u001b[1;33m.\u001b[0m\u001b[0mcharmap_decode\u001b[0m\u001b[1;33m(\u001b[0m\u001b[0minput\u001b[0m\u001b[1;33m,\u001b[0m\u001b[0mself\u001b[0m\u001b[1;33m.\u001b[0m\u001b[0merrors\u001b[0m\u001b[1;33m,\u001b[0m\u001b[0mdecoding_table\u001b[0m\u001b[1;33m)\u001b[0m\u001b[1;33m[\u001b[0m\u001b[1;36m0\u001b[0m\u001b[1;33m]\u001b[0m\u001b[1;33m\u001b[0m\u001b[1;33m\u001b[0m\u001b[0m\n\u001b[0m\u001b[0;32m     24\u001b[0m \u001b[1;33m\u001b[0m\u001b[0m\n",
      "\u001b[1;31mUnicodeDecodeError\u001b[0m: 'charmap' codec can't decode byte 0x81 in position 2100: character maps to <undefined>",
      "\nDuring handling of the above exception, another exception occurred:\n",
      "\u001b[1;31mOSError\u001b[0m                                   Traceback (most recent call last)",
      "\u001b[1;32m<ipython-input-17-aea1c3bc75ff>\u001b[0m in \u001b[0;36m<module>\u001b[1;34m\u001b[0m\n\u001b[0;32m      1\u001b[0m \u001b[0mMODEL\u001b[0m \u001b[1;33m=\u001b[0m \u001b[1;34mf\"cardiffnlp/twitter-roberta-base-sentiment\"\u001b[0m\u001b[1;33m\u001b[0m\u001b[1;33m\u001b[0m\u001b[0m\n\u001b[0;32m      2\u001b[0m \u001b[0mtokenizer\u001b[0m \u001b[1;33m=\u001b[0m \u001b[0mAutoTokenizer\u001b[0m\u001b[1;33m.\u001b[0m\u001b[0mfrom_pretrained\u001b[0m\u001b[1;33m(\u001b[0m\u001b[0mMODEL\u001b[0m\u001b[1;33m)\u001b[0m\u001b[1;33m\u001b[0m\u001b[1;33m\u001b[0m\u001b[0m\n\u001b[1;32m----> 3\u001b[1;33m \u001b[0mmodel\u001b[0m \u001b[1;33m=\u001b[0m \u001b[0mAutoModelForSequenceClassification\u001b[0m\u001b[1;33m.\u001b[0m\u001b[0mfrom_pretrained\u001b[0m\u001b[1;33m(\u001b[0m\u001b[0mMODEL\u001b[0m\u001b[1;33m)\u001b[0m\u001b[1;33m\u001b[0m\u001b[1;33m\u001b[0m\u001b[0m\n\u001b[0m",
      "\u001b[1;32m~\\Anaconda3\\lib\\site-packages\\transformers\\models\\auto\\auto_factory.py\u001b[0m in \u001b[0;36mfrom_pretrained\u001b[1;34m(cls, pretrained_model_name_or_path, *model_args, **kwargs)\u001b[0m\n\u001b[0;32m    462\u001b[0m             \u001b[0mmodel_class\u001b[0m \u001b[1;33m=\u001b[0m \u001b[0m_get_model_class\u001b[0m\u001b[1;33m(\u001b[0m\u001b[0mconfig\u001b[0m\u001b[1;33m,\u001b[0m \u001b[0mcls\u001b[0m\u001b[1;33m.\u001b[0m\u001b[0m_model_mapping\u001b[0m\u001b[1;33m)\u001b[0m\u001b[1;33m\u001b[0m\u001b[1;33m\u001b[0m\u001b[0m\n\u001b[0;32m    463\u001b[0m             return model_class.from_pretrained(\n\u001b[1;32m--> 464\u001b[1;33m                 \u001b[0mpretrained_model_name_or_path\u001b[0m\u001b[1;33m,\u001b[0m \u001b[1;33m*\u001b[0m\u001b[0mmodel_args\u001b[0m\u001b[1;33m,\u001b[0m \u001b[0mconfig\u001b[0m\u001b[1;33m=\u001b[0m\u001b[0mconfig\u001b[0m\u001b[1;33m,\u001b[0m \u001b[1;33m**\u001b[0m\u001b[0mhub_kwargs\u001b[0m\u001b[1;33m,\u001b[0m \u001b[1;33m**\u001b[0m\u001b[0mkwargs\u001b[0m\u001b[1;33m\u001b[0m\u001b[1;33m\u001b[0m\u001b[0m\n\u001b[0m\u001b[0;32m    465\u001b[0m             )\n\u001b[0;32m    466\u001b[0m         raise ValueError(\n",
      "\u001b[1;32m~\\Anaconda3\\lib\\site-packages\\transformers\\modeling_utils.py\u001b[0m in \u001b[0;36mfrom_pretrained\u001b[1;34m(cls, pretrained_model_name_or_path, *model_args, **kwargs)\u001b[0m\n\u001b[0;32m   2228\u001b[0m             \u001b[1;32mif\u001b[0m \u001b[1;32mnot\u001b[0m \u001b[0mis_sharded\u001b[0m \u001b[1;32mand\u001b[0m \u001b[0mstate_dict\u001b[0m \u001b[1;32mis\u001b[0m \u001b[1;32mNone\u001b[0m\u001b[1;33m:\u001b[0m\u001b[1;33m\u001b[0m\u001b[1;33m\u001b[0m\u001b[0m\n\u001b[0;32m   2229\u001b[0m                 \u001b[1;31m# Time to load the checkpoint\u001b[0m\u001b[1;33m\u001b[0m\u001b[1;33m\u001b[0m\u001b[1;33m\u001b[0m\u001b[0m\n\u001b[1;32m-> 2230\u001b[1;33m                 \u001b[0mstate_dict\u001b[0m \u001b[1;33m=\u001b[0m \u001b[0mload_state_dict\u001b[0m\u001b[1;33m(\u001b[0m\u001b[0mresolved_archive_file\u001b[0m\u001b[1;33m)\u001b[0m\u001b[1;33m\u001b[0m\u001b[1;33m\u001b[0m\u001b[0m\n\u001b[0m\u001b[0;32m   2231\u001b[0m \u001b[1;33m\u001b[0m\u001b[0m\n\u001b[0;32m   2232\u001b[0m             \u001b[1;31m# set dtype to instantiate the model under:\u001b[0m\u001b[1;33m\u001b[0m\u001b[1;33m\u001b[0m\u001b[1;33m\u001b[0m\u001b[0m\n",
      "\u001b[1;32m~\\Anaconda3\\lib\\site-packages\\transformers\\modeling_utils.py\u001b[0m in \u001b[0;36mload_state_dict\u001b[1;34m(checkpoint_file)\u001b[0m\n\u001b[0;32m    414\u001b[0m         \u001b[1;32mexcept\u001b[0m \u001b[1;33m(\u001b[0m\u001b[0mUnicodeDecodeError\u001b[0m\u001b[1;33m,\u001b[0m \u001b[0mValueError\u001b[0m\u001b[1;33m)\u001b[0m\u001b[1;33m:\u001b[0m\u001b[1;33m\u001b[0m\u001b[1;33m\u001b[0m\u001b[0m\n\u001b[0;32m    415\u001b[0m             raise OSError(\n\u001b[1;32m--> 416\u001b[1;33m                 \u001b[1;34mf\"Unable to load weights from pytorch checkpoint file for '{checkpoint_file}' \"\u001b[0m\u001b[1;33m\u001b[0m\u001b[1;33m\u001b[0m\u001b[0m\n\u001b[0m\u001b[0;32m    417\u001b[0m                 \u001b[1;34mf\"at '{checkpoint_file}'. \"\u001b[0m\u001b[1;33m\u001b[0m\u001b[1;33m\u001b[0m\u001b[0m\n\u001b[0;32m    418\u001b[0m                 \u001b[1;34m\"If you tried to load a PyTorch model from a TF 2.0 checkpoint, please set from_tf=True.\"\u001b[0m\u001b[1;33m\u001b[0m\u001b[1;33m\u001b[0m\u001b[0m\n",
      "\u001b[1;31mOSError\u001b[0m: Unable to load weights from pytorch checkpoint file for 'C:\\Users\\thais.linsdearaujo/.cache\\huggingface\\hub\\models--cardiffnlp--twitter-roberta-base-sentiment\\snapshots\\08b4d993d880171203539b37794af581debb55ca\\pytorch_model.bin' at 'C:\\Users\\thais.linsdearaujo/.cache\\huggingface\\hub\\models--cardiffnlp--twitter-roberta-base-sentiment\\snapshots\\08b4d993d880171203539b37794af581debb55ca\\pytorch_model.bin'. If you tried to load a PyTorch model from a TF 2.0 checkpoint, please set from_tf=True."
     ]
    }
   ],
   "source": [
    "MODEL = f\"cardiffnlp/twitter-roberta-base-sentiment\"\n",
    "tokenizer = AutoTokenizer.from_pretrained(MODEL)\n",
    "model = AutoModelForSequenceClassification.from_pretrained(MODEL)"
   ]
  },
  {
   "cell_type": "code",
   "execution_count": null,
   "metadata": {},
   "outputs": [],
   "source": []
  }
 ],
 "metadata": {
  "kernelspec": {
   "display_name": "Python 3",
   "language": "python",
   "name": "python3"
  },
  "language_info": {
   "codemirror_mode": {
    "name": "ipython",
    "version": 3
   },
   "file_extension": ".py",
   "mimetype": "text/x-python",
   "name": "python",
   "nbconvert_exporter": "python",
   "pygments_lexer": "ipython3",
   "version": "3.7.6"
  },
  "latex_envs": {
   "LaTeX_envs_menu_present": true,
   "autoclose": false,
   "autocomplete": true,
   "bibliofile": "biblio.bib",
   "cite_by": "apalike",
   "current_citInitial": 1,
   "eqLabelWithNumbers": true,
   "eqNumInitial": 1,
   "hotkeys": {
    "equation": "Ctrl-E",
    "itemize": "Ctrl-I"
   },
   "labels_anchors": false,
   "latex_user_defs": false,
   "report_style_numbering": false,
   "user_envs_cfg": false
  },
  "toc": {
   "base_numbering": 1,
   "nav_menu": {},
   "number_sections": true,
   "sideBar": true,
   "skip_h1_title": false,
   "title_cell": "Table of Contents",
   "title_sidebar": "Contents",
   "toc_cell": false,
   "toc_position": {},
   "toc_section_display": true,
   "toc_window_display": false
  },
  "varInspector": {
   "cols": {
    "lenName": 16,
    "lenType": 16,
    "lenVar": 40
   },
   "kernels_config": {
    "python": {
     "delete_cmd_postfix": "",
     "delete_cmd_prefix": "del ",
     "library": "var_list.py",
     "varRefreshCmd": "print(var_dic_list())"
    },
    "r": {
     "delete_cmd_postfix": ") ",
     "delete_cmd_prefix": "rm(",
     "library": "var_list.r",
     "varRefreshCmd": "cat(var_dic_list()) "
    }
   },
   "types_to_exclude": [
    "module",
    "function",
    "builtin_function_or_method",
    "instance",
    "_Feature"
   ],
   "window_display": false
  }
 },
 "nbformat": 4,
 "nbformat_minor": 4
}
